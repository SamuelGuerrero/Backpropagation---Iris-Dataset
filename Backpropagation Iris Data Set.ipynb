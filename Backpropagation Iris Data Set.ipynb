{
  "cells": [
    {
      "cell_type": "markdown",
      "metadata": {
        "colab_type": "text",
        "id": "view-in-github"
      },
      "source": [
        "<a href=\"https://colab.research.google.com/github/SamuelGuerrero/Machine-Learning/blob/main/Backpropagation%20Iris%20Data%20Set.ipynb\" target=\"_parent\"><img src=\"https://colab.research.google.com/assets/colab-badge.svg\" alt=\"Open In Colab\"/></a>"
      ]
    },
    {
      "cell_type": "markdown",
      "metadata": {
        "id": "dyaa5GEIewFL"
      },
      "source": [
        "\n",
        "## **Librerías que se usarán**"
      ]
    },
    {
      "cell_type": "code",
      "execution_count": null,
      "metadata": {
        "id": "B6i2EKM2O6-i"
      },
      "outputs": [],
      "source": [
        "import numpy as np                                             #Para la manipulación de matricez\n",
        "import matplotlib.pyplot as plt                                #Para las gráficas necesarias\n",
        "from sklearn import datasets                                   #Para cargar los datos del cojunto Iris\n",
        "from sklearn.preprocessing import StandardScaler, OneHotEncoder  #Para la estandarización y transformación a la notación One Hot Encoder"
      ]
    },
    {
      "cell_type": "markdown",
      "metadata": {
        "id": "0mOKID0Ee9G0"
      },
      "source": [
        "## **Funciones**"
      ]
    },
    {
      "cell_type": "code",
      "execution_count": null,
      "metadata": {
        "id": "ahuyVMBJWahy"
      },
      "outputs": [],
      "source": [
        "def convertirTarget(Y):\n",
        "  newY = [np.array([])] * len(Y)\n",
        "  for i in np.arange(len(Y)):\n",
        "    newY[i] = [Y[i]]\n",
        "  return newY"
      ]
    },
    {
      "cell_type": "code",
      "execution_count": null,
      "metadata": {
        "id": "CcULnB2lfRPv"
      },
      "outputs": [],
      "source": [
        "def derSigmoide(y):\n",
        "    return y * (1-y)"
      ]
    },
    {
      "cell_type": "code",
      "execution_count": null,
      "metadata": {
        "id": "C2mHOC-ifXaq"
      },
      "outputs": [],
      "source": [
        "def sigmoide(x):\n",
        "    return 1/(1+np.exp(-x))"
      ]
    },
    {
      "cell_type": "code",
      "execution_count": null,
      "metadata": {
        "id": "mTH2z7OIgTdG"
      },
      "outputs": [],
      "source": [
        "def crearMatricesPesos(dimensiones):\n",
        "  Ws = []\n",
        "  i = 1\n",
        "  for dimension in dimensiones:\n",
        "   Ws.append(np.random.random((dimension,dimensiones[i]))) \n",
        "   i += 1\n",
        "   if i == len(dimensiones):\n",
        "     break\n",
        "  return Ws"
      ]
    },
    {
      "cell_type": "code",
      "execution_count": null,
      "metadata": {
        "id": "6kZxQ9JL1kSI"
      },
      "outputs": [],
      "source": [
        "def forward(Ws, dimensiones, X):\n",
        "  X  = X.reshape((1,dimensiones[0]))\n",
        "  V  = [] #Salida de cada una de las capas\n",
        "  Y  = [] #Salida de cada una de las capas aplicando la función de activación (Sigmoide)\n",
        "  Yp = [] #Valores con la derivada de la función de activación para el decenso de la gradiente\n",
        "\n",
        "  for i in np.arange(len(dimensiones)-1):\n",
        "    if (i == 0): \n",
        "      V.append (X.dot(Ws[i])) \n",
        "    else:\n",
        "      V.append (Y[i-1].dot(Ws[i]))\n",
        "    Y.append (sigmoide(V[i]))\n",
        "    Yp.append(derSigmoide(Y[i]))\n",
        "  \n",
        "  return V,Y,Yp"
      ]
    },
    {
      "cell_type": "code",
      "execution_count": null,
      "metadata": {
        "id": "lekeaK8H-um4"
      },
      "outputs": [],
      "source": [
        "def backpropagation(X,W,Y,Yp,Yd,alpha):\n",
        "  #X : Valores de entrada\n",
        "  #W : Pesos de la capa\n",
        "  #Yd: Salida deseada\n",
        "\n",
        "  error = [np.array([])] * len(Y)\n",
        "  dw    = [np.array([])] * len(Y)\n",
        "  incW  = [np.array([])] * len(Y)\n",
        "  X = X[0].reshape([1,X[0].shape[0]])\n",
        "\n",
        "  for i in np.arange(len(Y)-1,-1,-1):\n",
        "    if (i == len(Y)-1):\n",
        "      #capa de salida\n",
        "      error[i] = Yd - Y[i]\n",
        "      dw[i]    = error[i] * Yp[i]\n",
        "      incW[i]  = Y[i-1].T.dot(dw[i])\n",
        "    elif (i==0):\n",
        "      #capa de entrada\n",
        "      error[i] = dw[i+1].dot(W[i+1].T)\n",
        "      dw[i]    = error[i]*Yp[i]\n",
        "      incW[i]  = X.T.dot(dw[i])\n",
        "    else: \n",
        "      ## hidden layers\n",
        "      error[i] = dw[i+1].dot(W[i+1].T)\n",
        "      dw[i]    = error[i] * Yp[i]\n",
        "      incW[i]  = Y[i-1].T.dot(dw[i])\n",
        "    W[i] = W[i] + alpha*incW[i]\n",
        "\n",
        "  return W"
      ]
    },
    {
      "cell_type": "markdown",
      "metadata": {
        "id": "roqYJYEUdwIZ"
      },
      "source": [
        "## **Transformación de la salida de la red a One Hot Encoder y Estandarización de los datos**\n"
      ]
    },
    {
      "cell_type": "code",
      "execution_count": null,
      "metadata": {
        "id": "zUnleEFTeiMj"
      },
      "outputs": [],
      "source": [
        "X  = datasets.load_iris().data\n",
        "Y  = datasets.load_iris().target\n",
        "YY = Y"
      ]
    },
    {
      "cell_type": "code",
      "execution_count": null,
      "metadata": {
        "colab": {
          "base_uri": "https://localhost:8080/"
        },
        "id": "50HNTHkzQvGr",
        "outputId": "573677c4-a5ac-4858-9ab7-2fd32566bd2d"
      },
      "outputs": [
        {
          "data": {
            "text/plain": [
              "array([[1., 0., 0.],\n",
              "       [1., 0., 0.],\n",
              "       [1., 0., 0.],\n",
              "       [1., 0., 0.],\n",
              "       [0., 1., 0.],\n",
              "       [0., 1., 0.],\n",
              "       [0., 1., 0.],\n",
              "       [0., 0., 1.],\n",
              "       [0., 0., 1.],\n",
              "       [0., 0., 1.]])"
            ]
          },
          "execution_count": 22,
          "metadata": {},
          "output_type": "execute_result"
        }
      ],
      "source": [
        "enc = OneHotEncoder(handle_unknown='ignore')\n",
        "clases = [[0],[1],[2]]\n",
        "enc.fit(clases)\n",
        "Yd = enc.transform(convertirTarget(Y)).toarray()\n",
        "Yd[0:Y.shape[0]:15]"
      ]
    },
    {
      "cell_type": "code",
      "execution_count": null,
      "metadata": {
        "id": "gYzqmvCYYJXA"
      },
      "outputs": [],
      "source": [
        "#Estandarización de los datos\n",
        "scaler = StandardScaler()\n",
        "X = scaler.fit_transform(X)"
      ]
    },
    {
      "cell_type": "markdown",
      "metadata": {
        "id": "eSzQugc2-S-9"
      },
      "source": [
        "## **Estructura de la red**"
      ]
    },
    {
      "cell_type": "code",
      "execution_count": null,
      "metadata": {
        "id": "o8Rm0fjcQ3ni"
      },
      "outputs": [],
      "source": [
        "#Declaración de las dimensiones de las capas de la red\n",
        "dimensiones = [4,12,8,3]\n",
        "#Se declaran los pesos aleatorios de todas las capas de la red\n",
        "Ws = crearMatricesPesos(dimensiones)"
      ]
    },
    {
      "cell_type": "code",
      "execution_count": null,
      "metadata": {
        "colab": {
          "base_uri": "https://localhost:8080/",
          "height": 297
        },
        "id": "T4FcpKLgGEFj",
        "outputId": "3b9cac97-7379-4b29-ae77-a00e96666497"
      },
      "outputs": [
        {
          "data": {
            "image/png": "[encoded data removed]",
            "text/plain": [
              "<Figure size 432x288 with 1 Axes>"
            ]
          },
          "metadata": {
            "needs_background": "light"
          },
          "output_type": "display_data"
        }
      ],
      "source": [
        "numeroEpocas = 25\n",
        "alpha = 1\n",
        "indices = np.arange(X.shape[0])\n",
        "np.random.shuffle(indices)\n",
        "\n",
        "historialAccuracy = np.array([])\n",
        "pMaximoX = 0\n",
        "pMaximoY = 0 \n",
        "\n",
        "for epoca in range(numeroEpocas):\n",
        "  score = np.zeros((X.shape[0]))\n",
        "  for index in indices:\n",
        "    V,Y,Yp = forward(Ws,dimensiones,X[index])\n",
        "    Ws = backpropagation([X[index,:]],Ws,Y,Yp,[Yd[index,:]],alpha)\n",
        "    Vn,Yn,Ypn = forward(Ws,dimensiones,X[index])\n",
        "    last = len(Y)-1\n",
        "    score[index] = Yn[last].argmax()\n",
        "  \n",
        "  accuracy = (score == YY).mean()\n",
        "  if(accuracy >= pMaximoY):\n",
        "    pMaximoY = accuracy\n",
        "    pMaximoX = epoca\n",
        "    mejorRed = Ws\n",
        "  historialAccuracy = np.append(historialAccuracy,accuracy)\n",
        "\n",
        "plt.plot(historialAccuracy)\n",
        "plt.plot(pMaximoX,pMaximoY,\"o\",color=\"red\",label=\"Punto Máximo\")\n",
        "plt.grid()\n",
        "plt.xlabel(\"Época\")\n",
        "plt.ylabel(\"Accuracy\")\n",
        "plt.legend(bbox_to_anchor=(1.05, 1.0), loc='upper left')\n",
        "plt.tight_layout()"
      ]
    },
    {
      "cell_type": "code",
      "execution_count": null,
      "metadata": {
        "colab": {
          "base_uri": "https://localhost:8080/"
        },
        "id": "zLDZlSyUGNTn",
        "outputId": "54a8408e-4922-472c-e465-2ebf9f5d9f60"
      },
      "outputs": [
        {
          "name": "stdout",
          "output_type": "stream",
          "text": [
            "[0.63333333 0.7        0.84       0.85333333 0.85333333 0.85333333\n",
            " 0.86       0.86666667 0.94       0.96       0.96666667 0.98\n",
            " 0.98       0.98       0.98       0.97333333 0.98       0.98\n",
            " 0.97333333 0.98       0.98       0.98666667 0.98       0.98\n",
            " 0.98      ]\n"
          ]
        }
      ],
      "source": [
        "print(historialAccuracy)"
      ]
    },
    {
      "cell_type": "code",
      "execution_count": null,
      "metadata": {
        "colab": {
          "base_uri": "https://localhost:8080/"
        },
        "id": "65DO4wEo8gXi",
        "outputId": "c34a4dbc-aef3-4a2a-e6dc-629643c1ff8d"
      },
      "outputs": [
        {
          "name": "stdout",
          "output_type": "stream",
          "text": [
            "21 0.9866666666666667\n"
          ]
        }
      ],
      "source": [
        "print(pMaximoX,pMaximoY)"
      ]
    },
    {
      "cell_type": "code",
      "execution_count": null,
      "metadata": {
        "colab": {
          "base_uri": "https://localhost:8080/"
        },
        "id": "kTbJ7Ja8FfmN",
        "outputId": "566e415d-d135-40f6-d2d7-e83bec383b71"
      },
      "outputs": [
        {
          "name": "stdout",
          "output_type": "stream",
          "text": [
            "[array([[ 1.23893518, -0.65787131,  0.71901602,  0.20404843, -0.01690238,\n",
            "         0.73817715,  0.81213823,  0.81352998, -0.00546854, -0.2141099 ,\n",
            "        -0.78957898,  1.26139453],\n",
            "       [-0.1723098 ,  0.38802104, -0.63306839, -1.04524772,  0.34676186,\n",
            "        -0.75806591, -0.05366319, -1.07698538, -0.55507726, -0.18845458,\n",
            "         0.97831605, -0.26157955],\n",
            "       [ 1.06731228, -0.68009962,  1.38880387,  1.68752233,  1.60731477,\n",
            "         1.51179307, -2.09778632,  1.54692765,  1.20765029,  1.33475032,\n",
            "        -0.08709274, -2.54924569],\n",
            "       [ 1.46026024, -1.65018577,  1.15655289,  0.94752144,  1.66423801,\n",
            "         0.875236  , -1.87313679,  0.87355711,  1.45997093,  1.60624333,\n",
            "        -1.45286766, -2.03261997]]), array([[ 5.61869783e-01,  4.09678643e-01,  4.43203917e-01,\n",
            "         1.18187992e+00,  1.28714408e-01,  3.73939833e-01,\n",
            "         9.08026183e-01, -4.96054788e-02],\n",
            "       [-1.28657394e+00, -5.32655756e+00,  6.59582109e-01,\n",
            "        -1.42768330e+00,  4.23970509e-01,  8.00419778e-01,\n",
            "         9.60075664e-01,  5.16121072e+00],\n",
            "       [ 1.38116847e+00,  8.84858779e-02,  1.96522453e-01,\n",
            "         1.21147945e+00,  8.78402938e-01,  5.24110186e-01,\n",
            "         7.05652401e-01, -3.01500585e-01],\n",
            "       [ 1.89411261e+00, -1.50056073e-02,  1.10750485e+00,\n",
            "         1.40828925e+00,  8.63101909e-01,  6.96994517e-01,\n",
            "         7.47388041e-01, -5.23406218e-01],\n",
            "       [ 7.01208173e-01,  1.11540795e+00,  1.09593363e-01,\n",
            "         1.05024998e+00,  4.03391665e-01,  7.57478645e-01,\n",
            "         9.62862048e-01, -4.87167101e-01],\n",
            "       [ 1.18081660e+00,  2.49943364e-01,  8.78368808e-01,\n",
            "         1.31675993e+00,  1.41210351e-01,  1.10393399e+00,\n",
            "         4.41784929e-01, -1.92598816e-01],\n",
            "       [-1.22974250e+00, -5.31266824e+00,  2.33848204e-01,\n",
            "        -1.07556815e+00,  1.16839685e+00,  1.63261996e+00,\n",
            "         1.32496491e+00,  4.90736416e+00],\n",
            "       [ 9.95810878e-01,  1.42533797e-02,  1.18695211e+00,\n",
            "         1.81411536e+00,  3.65570710e-01,  2.71796938e-01,\n",
            "         3.27913876e-01, -1.72957057e-01],\n",
            "       [ 1.51435471e+00,  6.53683189e-01,  1.07953400e+00,\n",
            "         1.25962338e+00,  3.06958726e-01,  8.65146667e-01,\n",
            "         1.70415830e-01, -7.41975381e-01],\n",
            "       [ 1.27423706e+00,  1.02812921e+00,  3.77895527e-01,\n",
            "         1.60635372e+00,  8.19485887e-01,  5.71554324e-01,\n",
            "         5.52548351e-01, -8.68740879e-01],\n",
            "       [-5.28341144e-03, -1.94526858e+00,  6.06434776e-01,\n",
            "        -4.89906009e-01,  9.34473561e-01,  4.73430188e-01,\n",
            "         4.41381999e-01,  2.57015866e+00],\n",
            "       [-1.26606711e+00, -5.15597844e+00,  5.99920811e-01,\n",
            "        -1.36882263e+00,  1.00476246e+00,  1.20726299e+00,\n",
            "         4.32090655e-01,  4.60049428e+00]]), array([[-2.98921218,  3.79713008,  0.20368999],\n",
            "       [-2.23756239, -4.79787884,  3.84165975],\n",
            "       [-0.74378303, -0.86070901, -0.41682983],\n",
            "       [-4.1494032 ,  4.49501464,  1.43368738],\n",
            "       [ 0.05688813, -1.85209257, -0.35546549],\n",
            "       [ 0.76793268, -1.99675925, -1.14910395],\n",
            "       [ 0.31588676, -1.59749393, -0.22634266],\n",
            "       [ 3.25769938,  2.75017153, -5.65636192]])]\n"
          ]
        }
      ],
      "source": [
        "print(mejorRed)"
      ]
    }
  ],
  "metadata": {
    "colab": {
      "collapsed_sections": [
        "dyaa5GEIewFL",
        "0mOKID0Ee9G0",
        "roqYJYEUdwIZ"
      ],
      "include_colab_link": true,
      "name": "4 Backpropagation.ipynb",
      "provenance": []
    },
    "kernelspec": {
      "display_name": "Python 3",
      "name": "python3"
    },
    "language_info": {
      "name": "python"
    }
  },
  "nbformat": 4,
  "nbformat_minor": 0
}
